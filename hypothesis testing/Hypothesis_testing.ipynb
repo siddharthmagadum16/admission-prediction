{
 "cells": [
  {
   "cell_type": "markdown",
   "metadata": {},
   "source": [
    "# HYPOTHESIS TESTING"
   ]
  },
  {
   "cell_type": "markdown",
   "metadata": {},
   "source": [
    "TOEFL scores are play an important part in a student's admission into a university. Many universities may have minimun TOEFL scores for students to even be considered. \n",
    "\n",
    "The hypothesis we will look at is \"More than 50% of students with TOEFL scores above 105 have a higher chance of admission (>80%)\".\n",
    "\n",
    "Thus, Null Hypothesis : p >= 50%\n",
    "\n",
    "      Alternate Hypothesis : p < 50% \n",
    "      \n",
    "      level of significance = 0.05"
   ]
  },
  {
   "cell_type": "code",
   "execution_count": 33,
   "metadata": {},
   "outputs": [],
   "source": [
    "import pandas as pd\n",
    "import numpy as np\n",
    "import math\n",
    "import scipy\n",
    "import matplotlib.pyplot as plt\n",
    "from matplotlib import pyplot\n",
    "import seaborn as sns\n",
    "sns.set_style('darkgrid')"
   ]
  },
  {
   "cell_type": "code",
   "execution_count": 9,
   "metadata": {},
   "outputs": [
    {
     "name": "stdout",
     "output_type": "stream",
     "text": [
      "            GRE Score  TOEFL Score  University Rating  SOP  LOR  CGPA  \\\n",
      "Serial No.                                                              \n",
      "1                 337          118                  4  4.5  4.5  9.65   \n",
      "2                 324          107                  4  4.0  4.5  8.87   \n",
      "3                 316          104                  3  3.0  3.5  8.00   \n",
      "4                 322          110                  3  3.5  2.5  8.67   \n",
      "5                 314          103                  2  2.0  3.0  8.21   \n",
      "...               ...          ...                ...  ...  ...   ...   \n",
      "496               332          108                  5  4.5  4.0  9.02   \n",
      "497               337          117                  5  5.0  5.0  9.87   \n",
      "498               330          120                  5  4.5  5.0  9.56   \n",
      "499               312          103                  4  4.0  5.0  8.43   \n",
      "500               327          113                  4  4.5  4.5  9.04   \n",
      "\n",
      "            Research  Chance of Admit  \n",
      "Serial No.                             \n",
      "1                  1             0.92  \n",
      "2                  1             0.76  \n",
      "3                  1             0.72  \n",
      "4                  1             0.80  \n",
      "5                  0             0.65  \n",
      "...              ...              ...  \n",
      "496                1             0.87  \n",
      "497                1             0.96  \n",
      "498                1             0.93  \n",
      "499                0             0.73  \n",
      "500                0             0.84  \n",
      "\n",
      "[500 rows x 8 columns]\n"
     ]
    }
   ],
   "source": [
    "original_df = pd.read_excel (r'C:\\Users\\SONY\\Downloads\\analyseddata.xlsx',index_col=0,header=0)\n",
    "df0=pd.DataFrame(original_df)\n",
    "print(df0)"
   ]
  },
  {
   "cell_type": "code",
   "execution_count": 13,
   "metadata": {},
   "outputs": [
    {
     "name": "stdout",
     "output_type": "stream",
     "text": [
      "            GRE Score  TOEFL Score  University Rating  SOP  LOR  CGPA  \\\n",
      "Serial No.                                                              \n",
      "1                 337          118                  4  4.5  4.5  9.65   \n",
      "2                 324          107                  4  4.0  4.5  8.87   \n",
      "4                 322          110                  3  3.5  2.5  8.67   \n",
      "6                 330          115                  5  4.5  3.0  9.34   \n",
      "7                 321          109                  3  3.0  4.0  8.20   \n",
      "...               ...          ...                ...  ...  ...   ...   \n",
      "490               302          110                  3  4.0  4.5  8.50   \n",
      "496               332          108                  5  4.5  4.0  9.02   \n",
      "497               337          117                  5  5.0  5.0  9.87   \n",
      "498               330          120                  5  4.5  5.0  9.56   \n",
      "500               327          113                  4  4.5  4.5  9.04   \n",
      "\n",
      "            Research  Chance of Admit  \n",
      "Serial No.                             \n",
      "1                  1             0.92  \n",
      "2                  1             0.76  \n",
      "4                  1             0.80  \n",
      "6                  1             0.90  \n",
      "7                  1             0.75  \n",
      "...              ...              ...  \n",
      "490                0             0.65  \n",
      "496                1             0.87  \n",
      "497                1             0.96  \n",
      "498                1             0.93  \n",
      "500                0             0.84  \n",
      "\n",
      "[289 rows x 8 columns]\n"
     ]
    }
   ],
   "source": [
    "df=df0[df0['TOEFL Score']>105]\n",
    "print(df)"
   ]
  },
  {
   "cell_type": "code",
   "execution_count": 14,
   "metadata": {
    "scrolled": true
   },
   "outputs": [
    {
     "data": {
      "text/html": [
       "<div>\n",
       "<style scoped>\n",
       "    .dataframe tbody tr th:only-of-type {\n",
       "        vertical-align: middle;\n",
       "    }\n",
       "\n",
       "    .dataframe tbody tr th {\n",
       "        vertical-align: top;\n",
       "    }\n",
       "\n",
       "    .dataframe thead th {\n",
       "        text-align: right;\n",
       "    }\n",
       "</style>\n",
       "<table border=\"1\" class=\"dataframe\">\n",
       "  <thead>\n",
       "    <tr style=\"text-align: right;\">\n",
       "      <th></th>\n",
       "      <th>GRE Score</th>\n",
       "      <th>TOEFL Score</th>\n",
       "      <th>University Rating</th>\n",
       "      <th>SOP</th>\n",
       "      <th>LOR</th>\n",
       "      <th>CGPA</th>\n",
       "      <th>Research</th>\n",
       "      <th>Chance of Admit</th>\n",
       "    </tr>\n",
       "    <tr>\n",
       "      <th>Serial No.</th>\n",
       "      <th></th>\n",
       "      <th></th>\n",
       "      <th></th>\n",
       "      <th></th>\n",
       "      <th></th>\n",
       "      <th></th>\n",
       "      <th></th>\n",
       "      <th></th>\n",
       "    </tr>\n",
       "  </thead>\n",
       "  <tbody>\n",
       "    <tr>\n",
       "      <th>1</th>\n",
       "      <td>337</td>\n",
       "      <td>118</td>\n",
       "      <td>4</td>\n",
       "      <td>4.5</td>\n",
       "      <td>4.5</td>\n",
       "      <td>9.65</td>\n",
       "      <td>1</td>\n",
       "      <td>0.92</td>\n",
       "    </tr>\n",
       "    <tr>\n",
       "      <th>6</th>\n",
       "      <td>330</td>\n",
       "      <td>115</td>\n",
       "      <td>5</td>\n",
       "      <td>4.5</td>\n",
       "      <td>3.0</td>\n",
       "      <td>9.34</td>\n",
       "      <td>1</td>\n",
       "      <td>0.90</td>\n",
       "    </tr>\n",
       "    <tr>\n",
       "      <th>12</th>\n",
       "      <td>327</td>\n",
       "      <td>111</td>\n",
       "      <td>4</td>\n",
       "      <td>4.0</td>\n",
       "      <td>4.5</td>\n",
       "      <td>9.00</td>\n",
       "      <td>1</td>\n",
       "      <td>0.84</td>\n",
       "    </tr>\n",
       "    <tr>\n",
       "      <th>23</th>\n",
       "      <td>328</td>\n",
       "      <td>116</td>\n",
       "      <td>5</td>\n",
       "      <td>5.0</td>\n",
       "      <td>5.0</td>\n",
       "      <td>9.50</td>\n",
       "      <td>1</td>\n",
       "      <td>0.94</td>\n",
       "    </tr>\n",
       "    <tr>\n",
       "      <th>24</th>\n",
       "      <td>334</td>\n",
       "      <td>119</td>\n",
       "      <td>5</td>\n",
       "      <td>5.0</td>\n",
       "      <td>4.5</td>\n",
       "      <td>9.70</td>\n",
       "      <td>1</td>\n",
       "      <td>0.95</td>\n",
       "    </tr>\n",
       "    <tr>\n",
       "      <th>...</th>\n",
       "      <td>...</td>\n",
       "      <td>...</td>\n",
       "      <td>...</td>\n",
       "      <td>...</td>\n",
       "      <td>...</td>\n",
       "      <td>...</td>\n",
       "      <td>...</td>\n",
       "      <td>...</td>\n",
       "    </tr>\n",
       "    <tr>\n",
       "      <th>483</th>\n",
       "      <td>328</td>\n",
       "      <td>113</td>\n",
       "      <td>4</td>\n",
       "      <td>4.0</td>\n",
       "      <td>2.5</td>\n",
       "      <td>8.77</td>\n",
       "      <td>1</td>\n",
       "      <td>0.83</td>\n",
       "    </tr>\n",
       "    <tr>\n",
       "      <th>496</th>\n",
       "      <td>332</td>\n",
       "      <td>108</td>\n",
       "      <td>5</td>\n",
       "      <td>4.5</td>\n",
       "      <td>4.0</td>\n",
       "      <td>9.02</td>\n",
       "      <td>1</td>\n",
       "      <td>0.87</td>\n",
       "    </tr>\n",
       "    <tr>\n",
       "      <th>497</th>\n",
       "      <td>337</td>\n",
       "      <td>117</td>\n",
       "      <td>5</td>\n",
       "      <td>5.0</td>\n",
       "      <td>5.0</td>\n",
       "      <td>9.87</td>\n",
       "      <td>1</td>\n",
       "      <td>0.96</td>\n",
       "    </tr>\n",
       "    <tr>\n",
       "      <th>498</th>\n",
       "      <td>330</td>\n",
       "      <td>120</td>\n",
       "      <td>5</td>\n",
       "      <td>4.5</td>\n",
       "      <td>5.0</td>\n",
       "      <td>9.56</td>\n",
       "      <td>1</td>\n",
       "      <td>0.93</td>\n",
       "    </tr>\n",
       "    <tr>\n",
       "      <th>500</th>\n",
       "      <td>327</td>\n",
       "      <td>113</td>\n",
       "      <td>4</td>\n",
       "      <td>4.5</td>\n",
       "      <td>4.5</td>\n",
       "      <td>9.04</td>\n",
       "      <td>0</td>\n",
       "      <td>0.84</td>\n",
       "    </tr>\n",
       "  </tbody>\n",
       "</table>\n",
       "<p>141 rows × 8 columns</p>\n",
       "</div>"
      ],
      "text/plain": [
       "            GRE Score  TOEFL Score  University Rating  SOP  LOR  CGPA  \\\n",
       "Serial No.                                                              \n",
       "1                 337          118                  4  4.5  4.5  9.65   \n",
       "6                 330          115                  5  4.5  3.0  9.34   \n",
       "12                327          111                  4  4.0  4.5  9.00   \n",
       "23                328          116                  5  5.0  5.0  9.50   \n",
       "24                334          119                  5  5.0  4.5  9.70   \n",
       "...               ...          ...                ...  ...  ...   ...   \n",
       "483               328          113                  4  4.0  2.5  8.77   \n",
       "496               332          108                  5  4.5  4.0  9.02   \n",
       "497               337          117                  5  5.0  5.0  9.87   \n",
       "498               330          120                  5  4.5  5.0  9.56   \n",
       "500               327          113                  4  4.5  4.5  9.04   \n",
       "\n",
       "            Research  Chance of Admit  \n",
       "Serial No.                             \n",
       "1                  1             0.92  \n",
       "6                  1             0.90  \n",
       "12                 1             0.84  \n",
       "23                 1             0.94  \n",
       "24                 1             0.95  \n",
       "...              ...              ...  \n",
       "483                1             0.83  \n",
       "496                1             0.87  \n",
       "497                1             0.96  \n",
       "498                1             0.93  \n",
       "500                0             0.84  \n",
       "\n",
       "[141 rows x 8 columns]"
      ]
     },
     "execution_count": 14,
     "metadata": {},
     "output_type": "execute_result"
    }
   ],
   "source": [
    "df[df['Chance of Admit']>0.8]"
   ]
  },
  {
   "cell_type": "code",
   "execution_count": 22,
   "metadata": {},
   "outputs": [
    {
     "name": "stdout",
     "output_type": "stream",
     "text": [
      "0.48788927335640137\n",
      "144.5\n",
      "144.5\n"
     ]
    }
   ],
   "source": [
    "n = 289\n",
    "x = 141\n",
    "p0 = 0.5\n",
    "p1 = x/n\n",
    "los = 0.05\n",
    "print(p1)\n",
    "print(n * p0)\n",
    "print(n * (1-p0))\n"
   ]
  },
  {
   "cell_type": "code",
   "execution_count": 23,
   "metadata": {},
   "outputs": [
    {
     "name": "stdout",
     "output_type": "stream",
     "text": [
      "0.029411764705882353\n"
     ]
    }
   ],
   "source": [
    "variance = math.sqrt(p0*(1-p0)/n)\n",
    "print(variance)"
   ]
  },
  {
   "cell_type": "code",
   "execution_count": 32,
   "metadata": {},
   "outputs": [
    {
     "name": "stdout",
     "output_type": "stream",
     "text": [
      "-0.4117647058823536\n"
     ]
    }
   ],
   "source": [
    "z = (p1-p0)/variance\n",
    "print(z)"
   ]
  },
  {
   "cell_type": "code",
   "execution_count": 34,
   "metadata": {},
   "outputs": [
    {
     "name": "stdout",
     "output_type": "stream",
     "text": [
      "0.34025594645084306\n"
     ]
    }
   ],
   "source": [
    "p_value= scipy.stats.norm.sf(abs(z))\n",
    "print(p_value)"
   ]
  },
  {
   "cell_type": "markdown",
   "metadata": {},
   "source": [
    "# Since p_value > level of significance, we must accept null hypothesis\n"
   ]
  },
  {
   "cell_type": "code",
   "execution_count": null,
   "metadata": {},
   "outputs": [],
   "source": []
  }
 ],
 "metadata": {
  "kernelspec": {
   "display_name": "Python 3",
   "language": "python",
   "name": "python3"
  },
  "language_info": {
   "codemirror_mode": {
    "name": "ipython",
    "version": 3
   },
   "file_extension": ".py",
   "mimetype": "text/x-python",
   "name": "python",
   "nbconvert_exporter": "python",
   "pygments_lexer": "ipython3",
   "version": "3.8.3"
  }
 },
 "nbformat": 4,
 "nbformat_minor": 4
}
